{
 "cells": [
  {
   "cell_type": "markdown",
   "id": "5afed4ff-9dbf-4651-ae87-ccf904e8840e",
   "metadata": {},
   "source": [
    "# Chapter 2: Under the Hood of Generative AI\n",
    "Figures and exercises for Chapter 2 of [Sustainable AI](https://www.oreilly.com/library/view/sustainable-ai/9781098155506/) by Raghavendra Selvan. "
   ]
  },
  {
   "cell_type": "code",
   "execution_count": null,
   "id": "724f83ea-df4c-4a31-9da4-32166e8fb6b8",
   "metadata": {},
   "outputs": [],
   "source": []
  }
 ],
 "metadata": {
  "kernelspec": {
   "display_name": "Python 3 (ipykernel)",
   "language": "python",
   "name": "python3"
  },
  "language_info": {
   "codemirror_mode": {
    "name": "ipython",
    "version": 3
   },
   "file_extension": ".py",
   "mimetype": "text/x-python",
   "name": "python",
   "nbconvert_exporter": "python",
   "pygments_lexer": "ipython3",
   "version": "3.8.13"
  }
 },
 "nbformat": 4,
 "nbformat_minor": 5
}
