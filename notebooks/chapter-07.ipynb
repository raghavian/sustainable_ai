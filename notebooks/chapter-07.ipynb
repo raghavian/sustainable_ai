{
 "cells": [
  {
   "cell_type": "markdown",
   "id": "d4ddde5d-ed9c-473d-be39-4dd6f109679e",
   "metadata": {},
   "source": [
    "# Chapter 7: Lean Inference\n",
    "Figures and exercises for Chapter 7 of [Sustainable AI](https://www.oreilly.com/library/view/sustainable-ai/9781098155506/) by Raghavendra Selvan."
   ]
  },
  {
   "cell_type": "code",
   "execution_count": null,
   "id": "af459f90-ed74-4206-9283-da28dd3f5950",
   "metadata": {},
   "outputs": [],
   "source": []
  }
 ],
 "metadata": {
  "kernelspec": {
   "display_name": "Python 3 (ipykernel)",
   "language": "python",
   "name": "python3"
  },
  "language_info": {
   "codemirror_mode": {
    "name": "ipython",
    "version": 3
   },
   "file_extension": ".py",
   "mimetype": "text/x-python",
   "name": "python",
   "nbconvert_exporter": "python",
   "pygments_lexer": "ipython3",
   "version": "3.8.13"
  }
 },
 "nbformat": 4,
 "nbformat_minor": 5
}
