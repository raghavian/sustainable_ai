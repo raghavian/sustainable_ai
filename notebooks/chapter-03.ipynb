{
 "cells": [
  {
   "cell_type": "markdown",
   "id": "da2bbbef-8750-47fd-90cb-1a5805e00e7e",
   "metadata": {},
   "source": [
    "# Chapter 3: Quantifying the Efficiency of Deep Learning\n",
    "Figures and exercises for Chapter 3 of [Sustainable AI](https://www.oreilly.com/library/view/sustainable-ai/9781098155506/) by Raghavendra Selvan."
   ]
  },
  {
   "cell_type": "code",
   "execution_count": null,
   "id": "745e529d-34ec-4fee-972b-894fea08ae0d",
   "metadata": {},
   "outputs": [],
   "source": []
  }
 ],
 "metadata": {
  "kernelspec": {
   "display_name": "Python 3 (ipykernel)",
   "language": "python",
   "name": "python3"
  },
  "language_info": {
   "codemirror_mode": {
    "name": "ipython",
    "version": 3
   },
   "file_extension": ".py",
   "mimetype": "text/x-python",
   "name": "python",
   "nbconvert_exporter": "python",
   "pygments_lexer": "ipython3",
   "version": "3.8.13"
  }
 },
 "nbformat": 4,
 "nbformat_minor": 5
}
