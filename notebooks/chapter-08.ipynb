{
 "cells": [
  {
   "cell_type": "markdown",
   "id": "78bed912-06c0-4eff-b8a1-150913655010",
   "metadata": {},
   "source": [
    "# Chapter 8: Hardware Considerations\n",
    "Figures and exercises for Chapter 8 of [Sustainable AI](https://www.oreilly.com/library/view/sustainable-ai/9781098155506/) by Raghavendra Selvan."
   ]
  },
  {
   "cell_type": "code",
   "execution_count": null,
   "id": "c80ab41f-ca1a-493b-8302-6ce75befe8b3",
   "metadata": {},
   "outputs": [],
   "source": []
  }
 ],
 "metadata": {
  "kernelspec": {
   "display_name": "Python 3 (ipykernel)",
   "language": "python",
   "name": "python3"
  },
  "language_info": {
   "codemirror_mode": {
    "name": "ipython",
    "version": 3
   },
   "file_extension": ".py",
   "mimetype": "text/x-python",
   "name": "python",
   "nbconvert_exporter": "python",
   "pygments_lexer": "ipython3",
   "version": "3.8.13"
  }
 },
 "nbformat": 4,
 "nbformat_minor": 5
}
