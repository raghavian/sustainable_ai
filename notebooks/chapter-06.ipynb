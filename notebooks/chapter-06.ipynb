{
 "cells": [
  {
   "cell_type": "markdown",
   "id": "0227301c-7987-4a6a-ba5a-1ae72b1d48de",
   "metadata": {},
   "source": [
    "# Chapter 6: Training Efficiency\n",
    "Figures and exercises for Chapter 6 of [Sustainable AI](https://www.oreilly.com/library/view/sustainable-ai/9781098155506/) by Raghavendra Selvan."
   ]
  },
  {
   "cell_type": "code",
   "execution_count": null,
   "id": "73b772b6-6b20-4aa8-8251-88eabdc87ab6",
   "metadata": {},
   "outputs": [],
   "source": []
  }
 ],
 "metadata": {
  "kernelspec": {
   "display_name": "Python 3 (ipykernel)",
   "language": "python",
   "name": "python3"
  },
  "language_info": {
   "codemirror_mode": {
    "name": "ipython",
    "version": 3
   },
   "file_extension": ".py",
   "mimetype": "text/x-python",
   "name": "python",
   "nbconvert_exporter": "python",
   "pygments_lexer": "ipython3",
   "version": "3.8.13"
  }
 },
 "nbformat": 4,
 "nbformat_minor": 5
}
