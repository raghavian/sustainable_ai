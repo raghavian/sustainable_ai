{
 "cells": [
  {
   "cell_type": "markdown",
   "id": "d114a47a-c007-45b8-a60e-b85000444971",
   "metadata": {},
   "source": [
    "# Chapter 10: Toward Sustainable AI\n",
    "Figures and exercises for Chapter 10 of [Sustainable AI](https://www.oreilly.com/library/view/sustainable-ai/9781098155506/) by Raghavendra Selvan. "
   ]
  },
  {
   "cell_type": "code",
   "execution_count": null,
   "id": "94e2a55c-face-4adf-9592-17f5ec6dd8d8",
   "metadata": {},
   "outputs": [],
   "source": []
  }
 ],
 "metadata": {
  "kernelspec": {
   "display_name": "Python 3 (ipykernel)",
   "language": "python",
   "name": "python3"
  },
  "language_info": {
   "codemirror_mode": {
    "name": "ipython",
    "version": 3
   },
   "file_extension": ".py",
   "mimetype": "text/x-python",
   "name": "python",
   "nbconvert_exporter": "python",
   "pygments_lexer": "ipython3",
   "version": "3.8.13"
  }
 },
 "nbformat": 4,
 "nbformat_minor": 5
}
